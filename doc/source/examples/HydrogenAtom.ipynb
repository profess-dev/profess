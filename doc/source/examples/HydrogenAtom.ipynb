{
 "cells": [
  {
   "cell_type": "markdown",
   "id": "seeing-church",
   "metadata": {},
   "source": [
    "# Hydrogen Atom"
   ]
  },
  {
   "cell_type": "code",
   "execution_count": 1,
   "id": "covered-victorian",
   "metadata": {},
   "outputs": [],
   "source": [
    "import matplotlib.pyplot as plt\n",
    "import numpy as np\n",
    "\n",
    "import pydeft as deft\n",
    "import profess"
   ]
  },
  {
   "cell_type": "markdown",
   "id": "micro-presence",
   "metadata": {},
   "source": [
    "Orbital-free density functional theory is able to find the energy of a Hydrogen atom exactly because there is no correlation and because the Weizsaecker kinetic energy functional is exact.\n",
    "\n",
    "The energy of a Hydrogen atom is $-0.5$ Hartrees.\n",
    "\n",
    "However, plane waves are not well-suited to the bare Coulomb potential, nor are periodic boundary conditions especially suitable for isolated atoms. This example explores these effects.\n",
    "\n",
    "Fortunately, energy differences converge more quickly..."
   ]
  },
  {
   "cell_type": "code",
   "execution_count": 2,
   "id": "structural-coffee",
   "metadata": {},
   "outputs": [
    {
     "data": {
      "image/png": "[encoded data removed]",
      "text/plain": [
       "<Figure size 432x288 with 1 Axes>"
      ]
     },
     "metadata": {
      "needs_background": "light"
     },
     "output_type": "display_data"
    }
   ],
   "source": [
    "box_lengths = np.linspace(20,60,3)\n",
    "energy_cutoffs = np.linspace(10,11,2)\n",
    "\n",
    "def H_energy(length, cutoff):\n",
    "\n",
    "    grid_shape = profess.System.get_shape(length*np.eye(3), cutoff, ['b','h'])\n",
    "    system = profess.System(grid_shape)\n",
    "    (system\n",
    "        # set simulation box\n",
    "        .set_box(length*np.eye(3))\n",
    "        # add ions and electrons\n",
    "        .add_coulomb_ions(1.0, np.zeros([1,3]))\n",
    "        .distribute_electrons_uniformly(system.total_ion_charge())\n",
    "        # add energy functionals\n",
    "        .add_weizsaecker_functional()\n",
    "        .add_ion_electron_functional()\n",
    "    )\n",
    "    system.minimize_energy()\n",
    "    return system.energy('h')\n",
    "\n",
    "# compute energies for the box lengths and energy cutoffs\n",
    "data = np.empty([box_lengths.size, energy_cutoffs.size])\n",
    "for i, length in enumerate(box_lengths):\n",
    "    for j, cutoff in enumerate(energy_cutoffs):\n",
    "        data[i,j] = H_energy(length, cutoff)\n",
    "\n",
    "# create plot\n",
    "for i in range(box_lengths.size):\n",
    "    plt.plot(energy_cutoffs, data[i,:])\n",
    "plt.plot(energy_cutoffs, -0.5*np.ones(energy_cutoffs.size), 'k--')\n",
    "plt.xlabel('Energy Cutoff [Ha]')\n",
    "plt.ylabel('Energy [Ha]')\n",
    "plt.legend(box_lengths)\n",
    "plt.show()"
   ]
  }
 ],
 "metadata": {
  "kernelspec": {
   "display_name": "Python 3",
   "language": "python",
   "name": "python3"
  },
  "language_info": {
   "codemirror_mode": {
    "name": "ipython",
    "version": 3
   },
   "file_extension": ".py",
   "mimetype": "text/x-python",
   "name": "python",
   "nbconvert_exporter": "python",
   "pygments_lexer": "ipython3",
   "version": "3.8.3"
  }
 },
 "nbformat": 4,
 "nbformat_minor": 5
}
