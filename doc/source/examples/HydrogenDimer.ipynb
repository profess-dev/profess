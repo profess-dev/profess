{
 "cells": [
  {
   "cell_type": "markdown",
   "id": "foreign-seating",
   "metadata": {},
   "source": [
    "# Hydrogen Dimer"
   ]
  },
  {
   "cell_type": "code",
   "execution_count": 1,
   "id": "imported-charleston",
   "metadata": {},
   "outputs": [],
   "source": [
    "import matplotlib.pyplot as plt\n",
    "import numpy as np\n",
    "\n",
    "import pydeft as deft\n",
    "import profess"
   ]
  },
  {
   "cell_type": "markdown",
   "id": "comparative-softball",
   "metadata": {},
   "source": [
    "This example explores the Hydrogen dimer."
   ]
  },
  {
   "cell_type": "code",
   "execution_count": 2,
   "id": "legendary-works",
   "metadata": {},
   "outputs": [
    {
     "data": {
      "image/png": "[encoded data removed]",
      "text/plain": [
       "<Figure size 432x288 with 1 Axes>"
      ]
     },
     "metadata": {
      "needs_background": "light"
     },
     "output_type": "display_data"
    }
   ],
   "source": [
    "box_length = 20\n",
    "grid_shape = [49,49,49]\n",
    "\n",
    "def H2_energy(distance):\n",
    "\n",
    "    system = profess.System(grid_shape)\n",
    "    (system\n",
    "        # set box vectors\n",
    "        .set_box(box_length*np.eye(3))\n",
    "        # add two Hydrogen ions and electrons\n",
    "        .add_coulomb_ions(1.0, [[0,0,0],[distance,0,0]])\n",
    "        .distribute_electrons_uniformly(system.total_ion_charge())\n",
    "        # set energy functionals\n",
    "        .add_weizsaecker_functional()\n",
    "        .add_ion_electron_functional()\n",
    "        .add_hartree_functional()\n",
    "        .add_perdew_zunger_functional()\n",
    "    )\n",
    "    \n",
    "    # find minimum energy and return it\n",
    "    system.minimize_energy()\n",
    "    return system.energy()\n",
    "\n",
    "distances = np.linspace(1, 2, 10)\n",
    "energies = []\n",
    "for d in distances:\n",
    "    energies.append(H2_energy(d))\n",
    "\n",
    "plt.plot(distances, energies)\n",
    "plt.show()"
   ]
  },
  {
   "cell_type": "markdown",
   "id": "allied-yellow",
   "metadata": {},
   "source": [
    "It's nice to see the energy for several distances, but shouldn't we be able to find it more precisely? Yes, by minimizing the forces.\n",
    "\n",
    "(Also put experimental)"
   ]
  }
 ],
 "metadata": {
  "kernelspec": {
   "display_name": "Python 3",
   "language": "python",
   "name": "python3"
  },
  "language_info": {
   "codemirror_mode": {
    "name": "ipython",
    "version": 3
   },
   "file_extension": ".py",
   "mimetype": "text/x-python",
   "name": "python",
   "nbconvert_exporter": "python",
   "pygments_lexer": "ipython3",
   "version": "3.8.3"
  }
 },
 "nbformat": 4,
 "nbformat_minor": 5
}
