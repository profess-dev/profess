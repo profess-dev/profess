{
 "cells": [
  {
   "cell_type": "markdown",
   "id": "rational-brighton",
   "metadata": {},
   "source": [
    "# Aluminum"
   ]
  },
  {
   "cell_type": "code",
   "execution_count": 1,
   "id": "introductory-cookie",
   "metadata": {},
   "outputs": [],
   "source": [
    "import matplotlib.pyplot as plt\n",
    "import numpy as np\n",
    "\n",
    "import pydeft as deft\n",
    "import profess"
   ]
  },
  {
   "cell_type": "markdown",
   "id": "dental-mobility",
   "metadata": {},
   "source": [
    "Begin by choosing cell vectors for an FCC lattice."
   ]
  },
  {
   "cell_type": "code",
   "execution_count": 2,
   "id": "necessary-spoke",
   "metadata": {},
   "outputs": [
    {
     "name": "stdout",
     "output_type": "stream",
     "text": [
      "[[2.025 2.025 0.   ]\n",
      " [0.    2.025 2.025]\n",
      " [2.025 0.    2.025]]\n"
     ]
    }
   ],
   "source": [
    "box_vectors = 4.050 * np.array([[0.5, 0.5, 0.0],\n",
    "                                [0.0, 0.5, 0.5],\n",
    "                                [0.5, 0.0, 0.5]])\n",
    "print(box_vectors)"
   ]
  },
  {
   "cell_type": "markdown",
   "id": "junior-wildlife",
   "metadata": {},
   "source": [
    "Next, create a profess system and set its box vectors accordingly."
   ]
  },
  {
   "cell_type": "code",
   "execution_count": 3,
   "id": "proprietary-partner",
   "metadata": {},
   "outputs": [
    {
     "data": {
      "text/plain": [
       "<profess.System at 0x7f3db5615070>"
      ]
     },
     "execution_count": 3,
     "metadata": {},
     "output_type": "execute_result"
    }
   ],
   "source": [
    "system = profess.System([18,18,18])\n",
    "system.set_box(box_vectors, 'a')"
   ]
  },
  {
   "cell_type": "markdown",
   "id": "hairy-mauritius",
   "metadata": {},
   "source": [
    "Next, add ions to the system. For the FCC primitive cell, only a single ion at the origin is required.\n",
    "\n",
    "After adding the ions, we also distribute the electrons uniformly."
   ]
  },
  {
   "cell_type": "code",
   "execution_count": 4,
   "id": "sapphire-worry",
   "metadata": {},
   "outputs": [
    {
     "data": {
      "image/png": "[encoded data removed]",
      "text/plain": [
       "<Figure size 432x288 with 1 Axes>"
      ]
     },
     "metadata": {
      "needs_background": "light"
     },
     "output_type": "display_data"
    }
   ],
   "source": [
    "system.add_ions('al.gga.recpot', np.zeros([1,3]), 'a')\n",
    "system.distribute_electrons_uniformly(system.total_ion_charge())\n",
    "\n",
    "plt.plot(system.electron_density[:,0,0])\n",
    "plt.show()"
   ]
  },
  {
   "cell_type": "markdown",
   "id": "alternate-korean",
   "metadata": {},
   "source": [
    "As a final initialization, set the energy functional, which includes multiple terms."
   ]
  },
  {
   "cell_type": "code",
   "execution_count": 5,
   "id": "polished-general",
   "metadata": {},
   "outputs": [
    {
     "name": "stdout",
     "output_type": "stream",
     "text": [
      "-54.926\n"
     ]
    }
   ],
   "source": [
    "(\n",
    "system.add_hartree_functional()\n",
    "    .add_ion_electron_functional()\n",
    "    .add_perdew_burke_ernzerhof_functional()\n",
    "    .add_wang_teter_functional()\n",
    ")\n",
    "energy = system.energy('ev')\n",
    "print('{:5.3f}'.format(energy))"
   ]
  },
  {
   "cell_type": "markdown",
   "id": "activated-involvement",
   "metadata": {},
   "source": [
    "Now that the functional is set, minimize the energy by varying the electron density."
   ]
  },
  {
   "cell_type": "code",
   "execution_count": 6,
   "id": "through-generation",
   "metadata": {},
   "outputs": [
    {
     "name": "stdout",
     "output_type": "stream",
     "text": [
      "-57.183\n"
     ]
    },
    {
     "data": {
      "image/png": "[encoded data removed]",
      "text/plain": [
       "<Figure size 432x288 with 1 Axes>"
      ]
     },
     "metadata": {
      "needs_background": "light"
     },
     "output_type": "display_data"
    }
   ],
   "source": [
    "system.minimize_energy()\n",
    "energy = system.energy('ev')\n",
    "print('{:5.3f}'.format(energy))\n",
    "plt.plot(system.electron_density[:,0,0])\n",
    "plt.show()"
   ]
  },
  {
   "cell_type": "code",
   "execution_count": null,
   "id": "naughty-lesson",
   "metadata": {},
   "outputs": [],
   "source": []
  }
 ],
 "metadata": {
  "kernelspec": {
   "display_name": "Python 3",
   "language": "python",
   "name": "python3"
  },
  "language_info": {
   "codemirror_mode": {
    "name": "ipython",
    "version": 3
   },
   "file_extension": ".py",
   "mimetype": "text/x-python",
   "name": "python",
   "nbconvert_exporter": "python",
   "pygments_lexer": "ipython3",
   "version": "3.8.3"
  }
 },
 "nbformat": 4,
 "nbformat_minor": 5
}
